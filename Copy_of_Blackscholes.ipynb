{
  "nbformat": 4,
  "nbformat_minor": 0,
  "metadata": {
    "colab": {
      "provenance": [],
      "authorship_tag": "ABX9TyNvxLq+s2VxyhdtHzFR9iM1",
      "include_colab_link": true
    },
    "kernelspec": {
      "name": "python3",
      "display_name": "Python 3"
    },
    "language_info": {
      "name": "python"
    }
  },
  "cells": [
    {
      "cell_type": "markdown",
      "metadata": {
        "id": "view-in-github",
        "colab_type": "text"
      },
      "source": [
        "<a href=\"https://colab.research.google.com/github/SurajGarg0/Mynew/blob/main/Copy_of_Blackscholes.ipynb\" target=\"_parent\"><img src=\"https://colab.research.google.com/assets/colab-badge.svg\" alt=\"Open In Colab\"/></a>"
      ]
    },
    {
      "cell_type": "code",
      "execution_count": null,
      "metadata": {
        "id": "WQIVlIjrrGjN"
      },
      "outputs": [],
      "source": [
        "import numpy as np\n",
        "from scipy.stats import norm"
      ]
    },
    {
      "cell_type": "code",
      "source": [
        "def black_Scholes(S_0, k, q, r, T , sigma , option_type ='call'):\n",
        "  d1 = (np.log(S_0/k)+(r-q + sigma**2 /2)* T)/(sigma*np.sqrt(T))\n",
        "  d2 = d1 - sigma* np.sqrt(T)\n",
        "\n",
        "  if option_type =='call':\n",
        "    option_price = S_0* np.exp(-q*T)*norm.cdf(d1)- k* np.exp(-r*T)* norm.cdf(d2)\n",
        "  elif option_type =='put':\n",
        "    option_price = k* np.exp(-r*T)*norm.cdf(-d2)-S_0* np.exp(-q*T)*norm.cdf(-d1)\n",
        "\n",
        "  return np.round(option_price,4)"
      ],
      "metadata": {
        "id": "Vaq6NDWsrnpj"
      },
      "execution_count": null,
      "outputs": []
    },
    {
      "cell_type": "code",
      "source": [
        "black_Scholes(S_0 = 90, k = 100, q = 0.02, r = 0.2, T= 6/12, sigma = 0.2, option_type = 'call')"
      ],
      "metadata": {
        "colab": {
          "base_uri": "https://localhost:8080/"
        },
        "id": "icXMXrHPs6lf",
        "outputId": "a66fc06f-2bd3-4a29-99b7-14bf17e29b78"
      },
      "execution_count": null,
      "outputs": [
        {
          "output_type": "execute_result",
          "data": {
            "text/plain": [
              "4.402"
            ]
          },
          "metadata": {},
          "execution_count": 4
        }
      ]
    },
    {
      "cell_type": "code",
      "source": [
        "import pickle"
      ],
      "metadata": {
        "id": "44XfBBUftIjx"
      },
      "execution_count": null,
      "outputs": []
    },
    {
      "cell_type": "code",
      "source": [
        "pickle.dump(black_Scholes,open('blackscholes.pkl','wb'))"
      ],
      "metadata": {
        "id": "CWuUBVe-tK5f"
      },
      "execution_count": null,
      "outputs": []
    }
  ]
}